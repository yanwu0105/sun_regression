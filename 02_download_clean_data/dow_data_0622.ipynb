{
 "cells": [
  {
   "cell_type": "code",
   "execution_count": 11,
   "metadata": {},
   "outputs": [],
   "source": [
    "import pandas as pd\n",
    "import numpy as np\n",
    "import datetime as dt\n",
    "import pyodbc\n",
    "import os"
   ]
  },
  {
   "cell_type": "code",
   "execution_count": 6,
   "metadata": {
    "scrolled": true
   },
   "outputs": [],
   "source": [
    "f = open(\"place_sum_tem_1.csv\",encoding='utf-8')\n",
    "place = pd.read_csv(f)"
   ]
  },
  {
   "cell_type": "code",
   "execution_count": 7,
   "metadata": {},
   "outputs": [],
   "source": [
    "want_place = np.array(place.CASE_NO)"
   ]
  },
  {
   "cell_type": "code",
   "execution_count": 4,
   "metadata": {
    "scrolled": true
   },
   "outputs": [],
   "source": [
    "server = '168.14.xx.xx'\n",
    "username = 'username'\n",
    "password = 'password'\n",
    "database = 'database name'\n",
    "driver = '{ODBC Driver 13 for SQL Server}'\n",
    "connectionString = 'DRIVER={0};PORT=1433;SERVER={1};DATABASE={2};UID={3};PWD={4}'.format(driver, server, database, username, password)\n",
    "cnxn = pyodbc.connect(connectionString)\n",
    "cursor = cnxn.cursor()\n",
    "instruct_day='''\n",
    "SELECT [ID] ,[CITY_ID],[DISTRICT_ID],[REGION_ID],[KWP],[DATA_TIME],[SUN],[POWER],[TEMPERATURE]\n",
    "FROM [dbname].[dbo].[power]\n",
    "WHERE [DATA_TIME] BETWEEN '2017-09-01 00:00:00' and '2018-05-31 21:00:00'\n",
    "'''\n",
    "\n",
    "df_day=pd.read_sql(instruct_day, cnxn)"
   ]
  },
  {
   "cell_type": "code",
   "execution_count": 7,
   "metadata": {},
   "outputs": [
    {
     "data": {
      "text/plain": [
       "11109177"
      ]
     },
     "execution_count": 7,
     "metadata": {},
     "output_type": "execute_result"
    }
   ],
   "source": [
    "len(df_day)"
   ]
  },
  {
   "cell_type": "code",
   "execution_count": 27,
   "metadata": {},
   "outputs": [],
   "source": [
    "d = np.array(df_day[\"DISTRICT_ID\"])\n",
    "r = np.array(df_day[\"REGION_ID\"])\n",
    "d_r = []\n",
    "for i in range(len(d)):\n",
    "    dd = d[i].split(\"D\")\n",
    "    dd = dd[1]\n",
    "    rr = r[i].split(\"R\")\n",
    "    rr = rr[1]\n",
    "    dr = dd + rr\n",
    "    d_r.append(dr)\n",
    "d_r = pd.DataFrame(d_r,columns=[\"CASE_ID\"])\n",
    "df_day_1 = pd.concat([df_day,d_r],axis=1)"
   ]
  },
  {
   "cell_type": "code",
   "execution_count": 42,
   "metadata": {},
   "outputs": [],
   "source": [
    "df_day_1.CASE_NO = df_day_1.CASE_NO.astype(str)"
   ]
  },
  {
   "cell_type": "code",
   "execution_count": 51,
   "metadata": {
    "scrolled": false
   },
   "outputs": [],
   "source": [
    "data = pd.DataFrame(columns=['ID', 'CITY_ID', 'DISTRICT_ID', 'REGION_ID', 'KWP', 'DATA_TIME',\n",
    "       'SUN', 'POWER', 'TEMPERATURE', 'CASE_ID'])\n",
    "for i in want_place:\n",
    "    i = str(i)\n",
    "    a = df_day_1[df_day_1.CASE_NO == i]\n",
    "    data = pd.concat([data,a],axis=0)"
   ]
  },
  {
   "cell_type": "code",
   "execution_count": 52,
   "metadata": {},
   "outputs": [],
   "source": [
    "data['DATA_TIME_datetype'] = pd.to_datetime(data['DATA_TIME'])\n",
    "data = data[[\"CITY_ID\",\"CASE_ID\",\"DATA_TIME_datetype\",'SUN', 'POWER', 'TEMPERATURE','KWP']]\n",
    "data = data.reset_index(drop=True)"
   ]
  },
  {
   "cell_type": "code",
   "execution_count": 53,
   "metadata": {},
   "outputs": [],
   "source": [
    "day_time = np.array(data.DATA_TIME_datetype)\n",
    "day = []\n",
    "time = []\n",
    "for i in range(len(day_time)):\n",
    "    dt = str(day_time[i])\n",
    "    dt = dt.split(\"T\")\n",
    "    day.append(dt[0])\n",
    "    ti = dt[1]\n",
    "    ti = ti[0:5]\n",
    "    time.append(ti)\n",
    "day_df = pd.DataFrame(day,columns=[\"day\"])\n",
    "time_df = pd.DataFrame(time,columns=[\"time\"])\n",
    "df_1 = pd.concat([data,day_df,time_df],axis=1)"
   ]
  },
  {
   "cell_type": "code",
   "execution_count": 14,
   "metadata": {},
   "outputs": [],
   "source": [
    "case_list1 = pd.unique(df_1.CASE_ID)\n",
    "caselist = sorted(case_list1)\n",
    "\n",
    "day_case_W = []\n",
    "\n",
    "for i in caselist:\n",
    "    da = df_1[df_1.CASE_NO == i]\n",
    "    da_1 = da.sort_values(by=['DATA_TIME_datetype'])\n",
    "    da_1['TOTAL_SUN'] = da_1['SUN'].cumsum()\n",
    "    daylist1 = pd.unique(da.day)\n",
    "    daylist = sorted(daylist1)\n",
    "    for l in daylist:\n",
    "        da_2 = da_1[da_1.day==l]\n",
    "        if len(da_2) != 96 :\n",
    "            day_case_W.append([i,l])"
   ]
  },
  {
   "cell_type": "code",
   "execution_count": 10,
   "metadata": {
    "scrolled": true
   },
   "outputs": [],
   "source": [
    "df_1 = df_1[df_1.day != \"2018-05-31\"]"
   ]
  },
  {
   "cell_type": "code",
   "execution_count": 4,
   "metadata": {},
   "outputs": [],
   "source": [
    "df_2 = pd.DataFrame(columns=['CITY_ID', 'CASE_ID', 'DATA_TIME_datetype', \"SUN\",\"POWER\", 'TEMPERATURE', \n",
    "                             'KWP','day', 'time',\"TOTAL_SUN\",'final_sun', 'final_kwh',\"tem_3hr_mean\"])"
   ]
  },
  {
   "cell_type": "code",
   "execution_count": 5,
   "metadata": {},
   "outputs": [],
   "source": [
    "case_list1 = pd.unique(df_1.CASE_ID)\n",
    "caselist = sorted(case_list1)\n",
    "for i in caselist:\n",
    "    da = df_1[df_1.CASE_ID == i]\n",
    "    da_1 = da.sort_values(by=['DATA_TIME_datetype'])\n",
    "    da_1['TOTAL_SUN'] = da_1['SUN'].cumsum()\n",
    "    daylist1 = pd.unique(da_1.day)\n",
    "    daylist = sorted(daylist1)\n",
    "    for l in daylist:\n",
    "        tem_3hr_mean = []\n",
    "        da_2 = da_1[da_1.day==l]\n",
    "        tem = np.array(da_2.TEMPERATURE)\n",
    "        a = [0,12,24,36,48,60,72,84]\n",
    "        for m in a:\n",
    "            for n in range(m+12):\n",
    "                tem_3hr_list = []\n",
    "                tem_3hr_list.append(tem[n])\n",
    "            tem_mean = np.mean(tem_3hr_list)\n",
    "            tem_3hr_mean.append(tem_mean)\n",
    "        tem_3hr_mean = pd.DataFrame(tem_3hr_mean,columns=[\"tem_3hr_mean\"]) \n",
    "    \n",
    "        da_3 = da_2.loc[(da_2['time'] == '00:00') | (da_2['time'] == '03:00') |\n",
    "                (da_2['time'] == '06:00') | (da_2['time'] == '09:00') |\n",
    "                (da_2['time'] == '12:00') | (da_2['time'] == '15:00') |\n",
    "                (da_2['time'] == '18:00') | (da_2['time'] == '21:00')]\n",
    "        da_3 = da_3.reset_index(drop=True)\n",
    "        da_3['final_sun'] = da_3['TOTAL_SUN'].shift(-1) - da_3['TOTAL_SUN']\n",
    "        da_3['final_kwh'] = da_3['POWER'].shift(-1) - da_3['POWER']\n",
    "        da_4 = pd.concat([da_3,tem_3hr_mean],axis=1)\n",
    "        df_2 = pd.concat([df_2,da_4],axis=0)"
   ]
  },
  {
   "cell_type": "code",
   "execution_count": 24,
   "metadata": {},
   "outputs": [],
   "source": [
    "def clean_data(data):\n",
    "    global day_W\n",
    "    global day_C\n",
    "    global df_new\n",
    "    day_C = []\n",
    "    day_W = []\n",
    "    caselist_1 = pd.unique(data.CASE_NO)\n",
    "    caselist = sorted(caselist_1)\n",
    "    for i in caselist:\n",
    "        da_1 = data[data.CASE_NO == i]\n",
    "        daylist_1 = pd.unique(da_1.day)\n",
    "        daylist = sorted(daylist_1)\n",
    "        for l in daylist:\n",
    "            da_2 = da_1[da_1.day == l]\n",
    "            sun = np.array(da_2.final_sun)\n",
    "            kwh = np.array(da_2.final_kwh)\n",
    "            if min(sun) < 0:\n",
    "                day_W.append([i,l])\n",
    "            elif min(kwh) < 0:\n",
    "                day_W.append([i,l])\n",
    "            else :\n",
    "                day_C.append([i,l])\n",
    "    df_new = pd.DataFrame(columns=['CITY_ID', 'CASE_NO', 'DATA_TIME_datetype', 'SUN', 'POWER',\n",
    "       'TEMPERATURE', 'KWP', 'day', 'time', 'TOTAL_SUN', 'final_sun','final_kwh', 'tem_3hr_mean'])\n",
    "    for m in day_C:\n",
    "        da_3 = data[(data.CASE_NO==m[0]) & (data.day==m[1])]\n",
    "        df_new = pd.concat([df_new,da_3],axis=0)"
   ]
  },
  {
   "cell_type": "code",
   "execution_count": 25,
   "metadata": {
    "scrolled": false
   },
   "outputs": [],
   "source": [
    "clean_data(df_2)\n",
    "df_3 = df_new"
   ]
  },
  {
   "cell_type": "code",
   "execution_count": 18,
   "metadata": {},
   "outputs": [
    {
     "data": {
      "text/plain": [
       "0"
      ]
     },
     "execution_count": 18,
     "metadata": {},
     "output_type": "execute_result"
    }
   ],
   "source": [
    "len(df_3)"
   ]
  },
  {
   "cell_type": "code",
   "execution_count": 19,
   "metadata": {},
   "outputs": [],
   "source": [
    "df_4 = df_3.loc[(df_3['time'] == '06:00') | (df_3['time'] == '09:00')|\n",
    "                (df_3['time'] == '12:00') | (df_3['time'] == '15:00')]"
   ]
  },
  {
   "cell_type": "code",
   "execution_count": 21,
   "metadata": {
    "scrolled": true
   },
   "outputs": [],
   "source": [
    "df_4.to_csv(\"df_4_0622.csv\",index=False)"
   ]
  },
  {
   "cell_type": "code",
   "execution_count": null,
   "metadata": {},
   "outputs": [],
   "source": []
  },
  {
   "cell_type": "code",
   "execution_count": 23,
   "metadata": {},
   "outputs": [],
   "source": [
    "def clean_data_tem(data):\n",
    "    global day_W\n",
    "    global day_C\n",
    "    global df_new\n",
    "    day_C = []\n",
    "    day_W = []\n",
    "    caselist_1 = pd.unique(data.CASE_ID)\n",
    "    caselist = sorted(caselist_1)\n",
    "    for i in caselist:\n",
    "        da_1 = data[data.CASE_ID == i]\n",
    "        daylist_1 = pd.unique(da_1.day)\n",
    "        daylist = sorted(daylist_1)\n",
    "        for l in daylist:\n",
    "            da_2 = da_1[da_1.day == l]\n",
    "            tem = np.array(da_2.tem_3hr_mean)\n",
    "            if min(tem) == 0:\n",
    "                day_W.append([i,l])\n",
    "            else :\n",
    "                day_C.append([i,l])\n",
    "    df_new = pd.DataFrame(columns=['CITY_ID', 'CASE_ID', 'DATA_TIME_datetype', 'SUN', 'POWER',\n",
    "       'TEMPERATURE', 'KWP', 'day', 'time', 'TOTAL_SUN', 'final_sun','final_kwh', 'tem_3hr_mean'])\n",
    "    for m in day_C:\n",
    "        da_3 = data[(data.CASE_ID==m[0]) & (data.day==m[1])]\n",
    "        df_new = pd.concat([df_new,da_3],axis=0)"
   ]
  },
  {
   "cell_type": "code",
   "execution_count": 24,
   "metadata": {},
   "outputs": [],
   "source": [
    "clean_data_tem(df_4)\n",
    "df_5 = df_new"
   ]
  },
  {
   "cell_type": "code",
   "execution_count": 30,
   "metadata": {},
   "outputs": [],
   "source": [
    "server = '168.14.xx.xx'\n",
    "username = 'username'\n",
    "password = 'password'\n",
    "database = 'database name'\n",
    "driver = '{ODBC Driver 13 for SQL Server}'\n",
    "connectionString = 'DRIVER={0};PORT=1433;SERVER={1};DATABASE={2};UID={3};PWD={4}'.format(driver, server, database, username, password)\n",
    "cnxn = pyodbc.connect(connectionString)\n",
    "cursor = cnxn.cursor()\n",
    "\n",
    "\n",
    "site=\"SELECT [CITY_ID],[CITY_NAME],[DISTRICT_ID],[DISTRICT_NAME],[REGION_ID],[CASE_NO],[CASE_NAME],[KWP],[THERMOMETER_AMOUNT],[SUNSHINEMETER_AMOUNT],[ENABLE_DATE] FROM  [dbname].[dbo].[site]\"\n",
    "df_site=pd.read_sql(site, cnxn)\n",
    "df_site = df_site[[ 'CITY_NAME', 'DISTRICT_NAME','CASE_ID', 'CASE_NAME']]"
   ]
  },
  {
   "cell_type": "code",
   "execution_count": 31,
   "metadata": {},
   "outputs": [],
   "source": [
    "cursor = cnxn.cursor()\n",
    "cwb = '''\n",
    "SELECT [CITY],[DISTRICT],[GEOCODE],[DAYTIME],[T],[TD],[RH],[WD],[WS],[BF],[AT],[Wx],[Wx_n],[PoP6h],[PoP12h],[get_day]\n",
    "FROM [dbname].[dbo].[WEATHER_CRAWLER]\n",
    "'''\n",
    "df_cwb=pd.read_sql(cwb, cnxn)\n",
    "\n",
    "# split daytime\n",
    "a = np.array(df_cwb.DAYTIME)\n",
    "day = []\n",
    "time = []\n",
    "for x in a:\n",
    "    x = str(x)\n",
    "    x = x.split(\"T\")\n",
    "    day.append(str(x[0]))\n",
    "    b = x[1].split(\".\")\n",
    "    time.append(str(b[0]))\n",
    "day = pd.DataFrame(day,columns=[\"DAY\"])\n",
    "time = pd.DataFrame(time,columns=[\"TIME\"])\n",
    "xx = pd.concat([day,time],1)\n",
    "df_cwb = pd.concat([df_cwb,xx],1)\n",
    "df_cwb = df_cwb[['CITY', 'DISTRICT', 'GEOCODE', 'DAYTIME','DAY','TIME', 'T', 'TD', 'RH', 'WD', 'WS','BF', 'AT', 'Wx', 'Wx_n', 'PoP6h', 'PoP12h', 'get_day']]\n",
    "df_cwb.Wx[df_cwb.Wx_n == 1] =\"晴天\"\n",
    "\n",
    "o = []\n",
    "ot = np.array(df_cwb.TIME)\n",
    "for i in ot:\n",
    "    otime = i.split(\":\")[0]\n",
    "    o.append(int(otime))\n",
    "o = pd.DataFrame(o,columns=['otime'])\n",
    "df_cwb_o = pd.concat([df_cwb,o],axis = 1)\n",
    "\n",
    "df_cwb_9_18 = df_cwb_o[(df_cwb_o.otime >= 6 )& (df_cwb_o.otime <= 15)]\n",
    "df_cwb_9_18 = df_cwb_9_18.drop_duplicates()  \n",
    "df_cwb_9_18 = df_cwb_9_18.reset_index(drop=True)"
   ]
  },
  {
   "cell_type": "code",
   "execution_count": 32,
   "metadata": {},
   "outputs": [
    {
     "name": "stderr",
     "output_type": "stream",
     "text": [
      "C:\\Users\\csim\\Anaconda3\\lib\\site-packages\\ipykernel_launcher.py:9: SettingWithCopyWarning: \n",
      "A value is trying to be set on a copy of a slice from a DataFrame\n",
      "\n",
      "See the caveats in the documentation: http://pandas.pydata.org/pandas-docs/stable/indexing.html#indexing-view-versus-copy\n",
      "  if __name__ == '__main__':\n",
      "C:\\Users\\csim\\Anaconda3\\lib\\site-packages\\ipykernel_launcher.py:10: SettingWithCopyWarning: \n",
      "A value is trying to be set on a copy of a slice from a DataFrame\n",
      "\n",
      "See the caveats in the documentation: http://pandas.pydata.org/pandas-docs/stable/indexing.html#indexing-view-versus-copy\n",
      "  # Remove the CWD from sys.path while we load stuff.\n"
     ]
    }
   ],
   "source": [
    "df_site.CASE_NO = df_site.CASE_NO.astype(str)\n",
    "df_5.CASE_NO = df_5.CASE_NO.astype(str)\n",
    "df_m = pd.merge(df_5,df_site,on=[\"CASE_ID\"])\n",
    "df_cwb_9_18 = df_cwb_9_18[['CITY', 'DISTRICT', 'GEOCODE', 'DAYTIME', 'DAY', 'TIME', 'T', 'TD','RH', \n",
    "                           'WD', 'WS', 'BF', 'AT', 'Wx', 'Wx_n', 'PoP6h', 'PoP12h', 'get_day']]\n",
    "df_cwb_9_18.columns = ['CITY_NAME', 'DISTRICT_NAME', 'GEOCODE', 'DATA_TIME_datetype', 'DAY', 'TIME', 'T', 'TD',\n",
    "       'RH', 'WD', 'WS', 'BF', 'AT', 'Wx', 'Wx_n', 'PoP6h', 'PoP12h','get_day']\n",
    "df_cwb_9_18.CITY_NAME[df_cwb_9_18.CITY_NAME == \"臺北市\"] = \"台北市\"\n",
    "df_cwb_9_18.CITY_NAME[df_cwb_9_18.CITY_NAME == \"臺中市\"] = \"台中市\"\n",
    "df_cwb_9_18.CITY_NAME[df_cwb_9_18.CITY_NAME == \"臺南市\"] = \"台南市\""
   ]
  },
  {
   "cell_type": "code",
   "execution_count": 57,
   "metadata": {},
   "outputs": [],
   "source": [
    "df_m['DATA_TIME_datetype'] = pd.to_datetime(df_m['DATA_TIME_datetype'])\n",
    "df_cwb_9_18['DATA_TIME_datetype'] = pd.to_datetime(df_cwb_9_18['DATA_TIME_datetype'])"
   ]
  },
  {
   "cell_type": "code",
   "execution_count": 58,
   "metadata": {
    "scrolled": true
   },
   "outputs": [],
   "source": [
    "df_m_cwb  = pd.merge(df_m,df_cwb_9_18,on=[\"DATA_TIME_datetype\",\"CITY_NAME\",\"DISTRICT_NAME\"])"
   ]
  },
  {
   "cell_type": "code",
   "execution_count": 60,
   "metadata": {},
   "outputs": [],
   "source": [
    "df_m_cwb = df_m_cwb.sort_values(by=['CASE_NO','DATA_TIME_datetype']) \n",
    "df_m_cwb = df_m_cwb.reset_index(drop=True)"
   ]
  },
  {
   "cell_type": "code",
   "execution_count": 42,
   "metadata": {},
   "outputs": [],
   "source": [
    "def data_select(data,we_day):\n",
    "    global df_new\n",
    "    df_new = pd.DataFrame(columns=['CITY_ID', 'CASE_ID', 'DATA_TIME_datetype', 'PV_TOTAL_SUN', 'TOTAL_KWH',\n",
    "                                   'PV_TOTAL_TEMPERATURE', 'KWP', 'day', 'time', 'TOTAL_SUN', 'final_sun',\n",
    "                                   'final_kwh', 'tem_3hr_mean', 'CITY_NAME', 'DISTRICT_NAME', 'CASE_NAME',\n",
    "                                   'GEOCODE', 'DAY', 'TIME', 'T', 'TD', 'RH', 'WD', 'WS', 'BF', 'AT', 'Wx',\n",
    "                                   'Wx_n', 'PoP6h', 'PoP12h', 'get_day'])\n",
    "    for m in we_day:\n",
    "        da_3 = data[(data.CASE_NO==m[0]) & (data.day==m[1])]\n",
    "        df_new = pd.concat([df_new,da_3],axis=0)\n",
    "\n",
    "def select_sun(data):\n",
    "    global sun_day\n",
    "    sun_day = []\n",
    "    global no_sun_day\n",
    "    no_sun_day = []\n",
    "    global no_sun_data\n",
    "    global sun_data\n",
    "    no_sun_data = pd.DataFrame(columns=['CITY_ID', 'CASE_NO', 'DATA_TIME_datetype', 'PV_TOTAL_SUN', 'TOTAL_KWH',\n",
    "                                   'PV_TOTAL_TEMPERATURE', 'KWP', 'day', 'time', 'TOTAL_SUN', 'final_sun',\n",
    "                                   'final_kwh', 'tem_3hr_mean', 'CITY_NAME', 'DISTRICT_NAME', 'CASE_NAME',\n",
    "                                   'GEOCODE', 'DAY', 'TIME', 'T', 'TD', 'RH', 'WD', 'WS', 'BF', 'AT', 'Wx',\n",
    "                                   'Wx_n', 'PoP6h', 'PoP12h', 'get_day'])\n",
    "    sun_data = pd.DataFrame(columns=['CITY_ID', 'CASE_NO', 'DATA_TIME_datetype', 'PV_TOTAL_SUN', 'TOTAL_KWH',\n",
    "                                   'PV_TOTAL_TEMPERATURE', 'KWP', 'day', 'time', 'TOTAL_SUN', 'final_sun',\n",
    "                                   'final_kwh', 'tem_3hr_mean', 'CITY_NAME', 'DISTRICT_NAME', 'CASE_NAME',\n",
    "                                   'GEOCODE', 'DAY', 'TIME', 'T', 'TD', 'RH', 'WD', 'WS', 'BF', 'AT', 'Wx',\n",
    "                                   'Wx_n', 'PoP6h', 'PoP12h', 'get_day'])\n",
    "    caselist1=pd.unique(data['CASE_NO'])\n",
    "    caselist=sorted(caselist1)\n",
    "    for i in caselist:\n",
    "        da = data[data.CASE_NO==i]\n",
    "        daylist1=pd.unique(da['DAY'])\n",
    "        daylist=sorted(daylist1)\n",
    "        for l in daylist:\n",
    "            da_1 = da[da.DAY==l]\n",
    "            a = np.array(da_1.Wx_n)\n",
    "            if max(a) > 2:\n",
    "                da_3 = data[(data.CASE_NO==i) & (data.day==l)]\n",
    "                no_sun_data = pd.concat([no_sun_data,da_3],axis=0)\n",
    "                no_sun_day.append([i,l])\n",
    "            else :\n",
    "                da_3 = data[(data.CASE_NO==i) & (data.day==l)]\n",
    "                sun_data = pd.concat([sun_data,da_3],axis=0)\n",
    "                sun_day.append([i,l])"
   ]
  },
  {
   "cell_type": "code",
   "execution_count": 43,
   "metadata": {},
   "outputs": [],
   "source": [
    "select_sun(df_m_cwb)"
   ]
  },
  {
   "cell_type": "code",
   "execution_count": 44,
   "metadata": {},
   "outputs": [],
   "source": [
    "no_sun_data = no_sun_data.reset_index(drop=True)\n",
    "sun_data = sun_data.reset_index(drop=True)"
   ]
  },
  {
   "cell_type": "code",
   "execution_count": 48,
   "metadata": {},
   "outputs": [],
   "source": [
    "no_sun_data_1 = no_sun_data.drop_duplicates(subset=['CASE_NO',\"DATA_TIME_datetype\"],keep=\"last\")\n",
    "sun_data_1 = sun_data.drop_duplicates(subset=['CASE_NO',\"DATA_TIME_datetype\"],keep=\"last\")"
   ]
  },
  {
   "cell_type": "code",
   "execution_count": 65,
   "metadata": {},
   "outputs": [],
   "source": [
    "no_sun_data = no_sun_data_1.reset_index(drop=True)\n",
    "sun_data = sun_data_1.reset_index(drop=True)"
   ]
  },
  {
   "cell_type": "code",
   "execution_count": 66,
   "metadata": {},
   "outputs": [],
   "source": [
    "kwh_x =[]\n",
    "caselist1=pd.unique(sun_data['CASE_NO'])\n",
    "caselist=sorted(caselist1)\n",
    "for i in caselist:\n",
    "    data = sun_data[sun_data.CASE_NO==i]\n",
    "    daylist1=pd.unique(data['DAY'])\n",
    "    daylist=sorted(daylist1)\n",
    "    for l in daylist:\n",
    "        da = data[data.DAY==l]\n",
    "        kwh = np.array(da.final_kwh)\n",
    "        kwh_x.append(0)\n",
    "        kwh_x.append(kwh[0])\n",
    "        kwh_x.append(kwh[1])\n",
    "        kwh_x.append(kwh[2])\n",
    "kwh_x = pd.DataFrame(kwh_x,columns=[\"kwh_x\"])\n",
    "sun_data_new = pd.concat([sun_data,kwh_x],axis=1)"
   ]
  },
  {
   "cell_type": "code",
   "execution_count": 68,
   "metadata": {},
   "outputs": [],
   "source": [
    "kwh_x =[]\n",
    "caselist1=pd.unique(no_sun_data['CASE_NO'])\n",
    "caselist=sorted(caselist1)\n",
    "for i in caselist:\n",
    "    data = no_sun_data[no_sun_data.CASE_NO==i]\n",
    "    daylist1=pd.unique(data['DAY'])\n",
    "    daylist=sorted(daylist1)\n",
    "    for l in daylist:\n",
    "        da = data[data.DAY==l]\n",
    "        kwh = np.array(da.final_kwh)\n",
    "        kwh_x.append(0)\n",
    "        kwh_x.append(kwh[0])\n",
    "        kwh_x.append(kwh[1])\n",
    "        kwh_x.append(kwh[2])\n",
    "kwh_x = pd.DataFrame(kwh_x,columns=[\"kwh_x\"])\n",
    "no_sun_data_new = pd.concat([no_sun_data,kwh_x],axis=1)"
   ]
  },
  {
   "cell_type": "code",
   "execution_count": null,
   "metadata": {},
   "outputs": [],
   "source": []
  },
  {
   "cell_type": "code",
   "execution_count": 70,
   "metadata": {},
   "outputs": [],
   "source": [
    "sun_data_new.to_csv(\"sun_data_0624.csv\",index=False,encoding=\"utf_8_sig\")\n",
    "no_sun_data_new.to_csv(\"no_sun_data_0624.csv\",index=False,encoding=\"utf_8_sig\")"
   ]
  }
 ],
 "metadata": {
  "kernelspec": {
   "display_name": "Python [default]",
   "language": "python",
   "name": "python3"
  },
  "language_info": {
   "codemirror_mode": {
    "name": "ipython",
    "version": 3
   },
   "file_extension": ".py",
   "mimetype": "text/x-python",
   "name": "python",
   "nbconvert_exporter": "python",
   "pygments_lexer": "ipython3",
   "version": "3.5.2"
  }
 },
 "nbformat": 4,
 "nbformat_minor": 2
}
